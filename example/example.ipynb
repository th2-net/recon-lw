{
 "cells": [
  {
   "cell_type": "markdown",
   "id": "37b4ee336cf36aae",
   "metadata": {
    "collapsed": false
   },
   "source": [
    "# Extractor"
   ]
  },
  {
   "cell_type": "code",
   "execution_count": null,
   "id": "7bc17082b6f68370",
   "metadata": {
    "collapsed": false
   },
   "outputs": [],
   "source": [
    "from recon_lw.interpretation.field_extractor import BasicConverterExtractor\n",
    "from recon_lw.reporting.known_issues import Issue\n",
    "\n",
    "\"\"\"\n",
    "Message example:\n",
    "  {\n",
    "     'KeyField1': 'KeyValue1',\n",
    "     'KeyField2': 'KeyValue2.text',\n",
    "     'Field1': '1000'\n",
    "  }\n",
    "\"\"\"\n",
    "\n",
    "\n",
    "def stream1_extractors_mapping():\n",
    "    return {\n",
    "        'key1': 'KeyField1', # Default dictionary field extraction\n",
    "        'key2': lambda x: x['KeyField2'].split('.'), # Lambda based field extraction\n",
    "        'field1': BasicConverterExtractor(\n",
    "            field_name='KeyField1',\n",
    "            converter=lambda x, _: int(x) / 10\n",
    "        )\n",
    "    }\n",
    "\n",
    "\"\"\"\n",
    "Messages example:\n",
    "MessageType1:\n",
    "    {\n",
    "      'mt': 'MessageType1',\n",
    "      'key_field_1': 'KeyValue1.text',\n",
    "      'key_field_2': 'KeyValue2',\n",
    "      'field_1': '10'\n",
    "    }\n",
    "MessageType2:\n",
    "    {\n",
    "      'mt': 'MessageType2',\n",
    "      'key_field_1': 'KeyValue1',\n",
    "      'key_field_2': 'KeyValue2',\n",
    "      'field_1': '1000'\n",
    "    }\n",
    "\"\"\"\n",
    "def stream2_mt1_extractors_mapping():\n",
    "    return {\n",
    "        'key1': lambda x: x['key_field_1'].split('.'), # Default dictionary field extraction\n",
    "        'key2': 'key_field_2', # Default dictionary field extraction\n",
    "        'field1': lambda x: int(x['Field1'])\n",
    "    }\n",
    "\n",
    "def stream2_mt2_extractors_mapping():\n",
    "    return {\n",
    "        'key1': 'key_field_1',\n",
    "        'key2': 'key_field_2', # Default dictionary field extraction\n",
    "        'field1': lambda x: int(x['Field1']) // 10\n",
    "    }"
   ]
  },
  {
   "cell_type": "markdown",
   "id": "8ca37ce967a523c2",
   "metadata": {
    "collapsed": false
   },
   "source": [
    "# Adapters"
   ]
  },
  {
   "cell_type": "code",
   "execution_count": null,
   "id": "d7f973c93c7fc1e7",
   "metadata": {
    "collapsed": false
   },
   "outputs": [],
   "source": [
    "from recon_lw.interpretation.adapter import SimpleAdapterBuilder, CompoundAdapter, SimpleAdapter\n",
    "\n",
    "# Using simple adapter with mapping\n",
    "stream1_adapter = SimpleAdapterBuilder()\\\n",
    "    .with_mapping(stream1_extractors_mapping())\\\n",
    "    .build()\n",
    "\n",
    "# Using compound adapter which allows to define different mapping for different message types\n",
    "stream2_adapter = CompoundAdapter(\n",
    "    adapters = [\n",
    "        (lambda x, _: x['mt'] == 'MessageType1', SimpleAdapter(stream2_mt1_extractors_mapping())),\n",
    "        (lambda x, _: x['mt'] == 'MessageType2', SimpleAdapter(stream2_mt2_extractors_mapping()))\n",
    "    ]\n",
    ")"
   ]
  },
  {
   "cell_type": "markdown",
   "id": "72653c04e455d2ea",
   "metadata": {
    "collapsed": false
   },
   "source": [
    "# Messages Comparisons"
   ]
  },
  {
   "cell_type": "code",
   "execution_count": null,
   "id": "f29ee2602541e140",
   "metadata": {
    "collapsed": false
   },
   "outputs": [],
   "source": [
    "from recon_lw.interpretation.field_checker import SimpleFieldChecker\n",
    "from recon_lw.interpretation.check_rule import EqualFieldCheckRule, FieldToCheck\n",
    "\n",
    "# Defining simple equal field check rule that compares fields for equality\n",
    "check_rule = EqualFieldCheckRule(stream1_adapter, stream2_adapter)\n",
    "\n",
    "# Defining list of fields that should be checked for matched messages\n",
    "fields_to_check = [\n",
    "    FieldToCheck(\"key1\", check_rule),\n",
    "    FieldToCheck(\"key2\", check_rule),\n",
    "    FieldToCheck(\"field1\", check_rule)\n",
    "]\n",
    "\n",
    "\n",
    "checker_rules = {\n",
    "    ftc.field: ftc.field_checker\n",
    "    for ftc in fields_to_check\n",
    "}\n",
    "\n",
    "# Defining Field checker implementations which defines how fields should be compared\n",
    "fields_checker = SimpleFieldChecker(checker_rules)"
   ]
  },
  {
   "cell_type": "markdown",
   "id": "5aff6dd1204de8a",
   "metadata": {
    "collapsed": false
   },
   "source": [
    "# Key Function"
   ]
  },
  {
   "cell_type": "code",
   "execution_count": null,
   "id": "7b7057a758ac1f1",
   "metadata": {
    "collapsed": false
   },
   "outputs": [],
   "source": [
    "from typing import Dict, Any, Set, List, Optional\n",
    "from recon_lw.interpretation.adapter import Adapter\n",
    "from recon_lw.interpretation.filter import FilterChain, SessionAliasFilter\n",
    "from recon_lw.matching.key_functions import BasicOriginalKeyFunctionProvider\n",
    "\n",
    "# Defining key fields that can be used to find pairs between streams\n",
    "\n",
    "key_fields = {'key1', 'key2'}\n",
    "\n",
    "# Defining key function provider using common library\n",
    "stream1_key_function = BasicOriginalKeyFunctionProvider(\n",
    "    filter_chain=FilterChain()\\\n",
    "        .add_filter(SessionAliasFilter(whitelisted_aliases={'stream1_session_alias'})), # Filtering only message with session alias from whitelist\n",
    "    key_fields=key_fields\n",
    ")\n",
    "\n",
    "# Defining key function for stream2\n",
    "\n",
    "def stream2_key_extractor(adapter: Adapter, message: Dict[str, Any], fields: Set[str]) -> Optional[List[str]]:\n",
    "    if message['sessionId'] != 'stream2_session_alias':\n",
    "        return None\n",
    "    collected_keys = []\n",
    "    for field in fields:\n",
    "        collected_keys.append(adapter.get(message, field))\n",
    "    return [\":\".join(collected_keys)]\n"
   ]
  },
  {
   "cell_type": "markdown",
   "id": "f853e98586a05a80",
   "metadata": {
    "collapsed": false
   },
   "source": [
    "# Interpretation Function"
   ]
  },
  {
   "cell_type": "code",
   "execution_count": null,
   "id": "e81c04166110f4aa",
   "metadata": {
    "ExecuteTime": {
     "end_time": "2024-03-19T15:03:29.770811100Z",
     "start_time": "2024-03-19T15:03:29.580896200Z"
    },
    "collapsed": false
   },
   "outputs": [],
   "source": [
    "from recon_lw.core.type.types import Message\n",
    "from recon_lw.interpretation.interpretation_functions.event_enhancement import ReconEventChainEnhancement\n",
    "from recon_lw.interpretation.interpretation_functions import BasicInterpretationFunctionProvider\n",
    "\n",
    "def dummy_enhancement(event: dict, _: Message, __: Adapter):\n",
    "    event['body']['dummy_enhancement'] = 'dummy_enhancement'\n",
    "\n",
    "# Default intepritation function takes matched messages and categorises them by 4 types: \n",
    "#   - miss left - there is message in stream2 stream with certain key and there is no message with same key in stream1 stream within horizon delay\n",
    "#   - miss right - there is message in stream1 stream with certain key and there is no message with same key in stream2 stream within horizon delay\n",
    "#   - match - there is message in stream1 and stream2 stream with same key and all fields to compare were equal\n",
    "#   - match_diff - there is message in stream1 and stream2 stream with same key and some fields were not equal\n",
    "# In result pickle with events ( dict object ) will be published.\n",
    "interpretation_function = BasicInterpretationFunctionProvider(\n",
    "    recon_name=\"stream1_vs_stream2\",\n",
    "    original_stream_adapter=stream1_adapter,\n",
    "    copy_stream_adapter=stream2_adapter,\n",
    "    fields_checker=fields_checker,\n",
    "    enrich_event_with_messages=False,\n",
    "    recon_event_chain_enhancement=ReconEventChainEnhancement()\n",
    "        .add_enhancement(dummy_enhancement)\n",
    ")"
   ]
  },
  {
   "cell_type": "markdown",
   "id": "96155f5b5b932f53",
   "metadata": {
    "collapsed": false
   },
   "source": [
    "# Matching Rule Definition"
   ]
  },
  {
   "cell_type": "code",
   "execution_count": null,
   "id": "30b35264dc0ce057",
   "metadata": {
    "collapsed": false
   },
   "outputs": [],
   "source": [
    "from recon_lw.matching.stream_matcher.one_many import OneManyMatcher\n",
    "from recon_lw.core.rule.one_many import OneManyRuleConfig\n",
    "\n",
    "# Defining OneManyRule with OneManyMatcher, key functions and interpretation functions defined above.\n",
    "stream1_vs_stream2_rule = OneManyRuleConfig.from_defaults(\n",
    "    name=\"stream1_vs_stream2\",\n",
    "    horizon_delay=30,\n",
    "    match_function=OneManyMatcher(),\n",
    "    intepretation_function=interpretation_function.provide(),\n",
    "    first_key_func=stream1_key_function.provide(stream1_adapter),\n",
    "    second_key_func=stream2_key_extractor\n",
    ")"
   ]
  },
  {
   "cell_type": "markdown",
   "id": "1ba3508f25e35bf9",
   "metadata": {
    "collapsed": false
   },
   "source": [
    "# Reading data"
   ]
  },
  {
   "cell_type": "code",
   "execution_count": null,
   "id": "6be4905c55da3ab2",
   "metadata": {
    "collapsed": false
   },
   "outputs": [],
   "source": [
    "from th2_data_services.data import Data\n",
    "\n",
    "stream1_data = Data.from_json(\"data/stream1.json\")\n",
    "stream2_data = Data.from_cache_file(\"data/stream2.pickle\")"
   ]
  },
  {
   "cell_type": "markdown",
   "id": "e69ebe01fb2b6459",
   "metadata": {
    "collapsed": false
   },
   "source": [
    "# Clearing recon events"
   ]
  },
  {
   "cell_type": "code",
   "execution_count": null,
   "id": "e7c7810552cd36da",
   "metadata": {
    "collapsed": false
   },
   "outputs": [],
   "source": [
    "from pathlib import Path\n",
    "from recon_lw.recon_lw_entrypoint import execute_standalone\n",
    "\n",
    "# Cleaning recon events folder\n",
    "local_events_folder_path = Path(Path(\"events\"))\n",
    "print(\"Cleaning Local Events Folder\")\n",
    "[f.unlink() for f in local_events_folder_path.glob(\"*\") if f.is_file()]"
   ]
  },
  {
   "cell_type": "markdown",
   "id": "4626972d2a01edcd",
   "metadata": {
    "collapsed": false
   },
   "source": [
    "# Recon entrypoing"
   ]
  },
  {
   "cell_type": "code",
   "execution_count": null,
   "id": "ffd36297ba4600a8",
   "metadata": {
    "collapsed": false
   },
   "outputs": [],
   "source": [
    "# Executing previously defined rule on stream1 and stream2 data objects using rule defined above.\n",
    "\n",
    "execute_standalone(\n",
    "    message_pickle_path=None,\n",
    "    sessions_list=None,\n",
    "    result_events_path=local_events_folder_path,\n",
    "    rules={stream1_vs_stream2_rule.name: stream1_vs_stream2_rule},\n",
    "    data_objects=[stream1_data, stream2_data]\n",
    ")\n",
    "print('DONE')"
   ]
  },
  {
   "cell_type": "markdown",
   "id": "e5426f826b65b5bf",
   "metadata": {
    "collapsed": false
   },
   "source": [
    "# Recon Context"
   ]
  },
  {
   "cell_type": "code",
   "execution_count": null,
   "id": "7e1675281c1360ed",
   "metadata": {
    "collapsed": false
   },
   "outputs": [],
   "source": [
    "from th2_data_services.config import options\n",
    "from recon_lw.reporting.recon_context.context import ReconContext\n",
    "\n",
    "# Defining recon context which knows how to extract fields from event and messages and also knows how to get recon events\n",
    "recon_context = ReconContext(\n",
    "    local_events_folder_path,\n",
    "    options.mfr,\n",
    "    options.efr\n",
    ")"
   ]
  },
  {
   "cell_type": "markdown",
   "id": "586e9e65acfb8e0",
   "metadata": {
    "collapsed": false
   },
   "source": [
    "# General events statistics"
   ]
  },
  {
   "cell_type": "code",
   "execution_count": null,
   "id": "2f0ee260902f4401",
   "metadata": {
    "collapsed": false
   },
   "outputs": [],
   "source": [
    "from recon_lw.reporting.stats.stats import EventStatisticsTableReport\n",
    "\n",
    "# General Statistics Report Generator\n",
    "stats = EventStatisticsTableReport(recon_context)"
   ]
  },
  {
   "cell_type": "code",
   "execution_count": null,
   "id": "293983f95ce8e62e",
   "metadata": {
    "collapsed": false
   },
   "outputs": [],
   "source": [
    "# Events table per event type\n",
    "\"\"\"\n",
    "+--------+--------------------+----------+---------+\n",
    "|        | Event Type         | Status   |   count |\n",
    "+========+====================+==========+=========+\n",
    "|        | BasicReconMatch    | True     |     120 |\n",
    "+--------+--------------------+----------+---------+\n",
    "|        | BasicReconMissLeft | False    |      12 |\n",
    "+--------+--------------------+----------+---------+\n",
    "|        | LwReconRule        | True     |       1 |\n",
    "+--------+--------------------+----------+---------+\n",
    "|        | Microservice       | True     |       1 |\n",
    "+--------+--------------------+----------+---------+\n",
    "| count  |                    |          |       4 |\n",
    "+--------+--------------------+----------+---------+\n",
    "| totals |                    | 3/1      |     134 |\n",
    "+--------+--------------------+----------+---------+\n",
    "\"\"\"\n",
    "stats.get_event_type_report_table()"
   ]
  },
  {
   "cell_type": "code",
   "execution_count": null,
   "id": "7aed7cbcb17bd500",
   "metadata": {
    "collapsed": false
   },
   "outputs": [],
   "source": [
    "# Events table per event name\n",
    "\"\"\"\n",
    "+--------+-------------------------------------+----------+---------+\n",
    "|        | Event Name                          | Status   |   count |\n",
    "+========+=====================================+==========+=========+\n",
    "|        | stream1_vs_stream2                  | True     |       1 |\n",
    "+--------+-------------------------------------+----------+---------+\n",
    "|        | stream1_vs_stream2[match]           | True     |     120 |\n",
    "+--------+-------------------------------------+----------+---------+\n",
    "|        | stream1_vs_stream2[miss_original]   | False    |      12 |\n",
    "+--------+-------------------------------------+----------+---------+\n",
    "|        | recon_lw 2024-03-19T16:08:04.991471 | True     |       1 |\n",
    "+--------+-------------------------------------+----------+---------+\n",
    "| count  |                                     |          |       4 |\n",
    "+--------+-------------------------------------+----------+---------+\n",
    "| totals |                                     | 3/1      |     134 |\n",
    "+--------+-------------------------------------+----------+---------+\n",
    "\"\"\"\n",
    "stats.get_event_names_report_table()"
   ]
  },
  {
   "cell_type": "markdown",
   "id": "1a23189881ad6b1f",
   "metadata": {
    "collapsed": false
   },
   "source": [
    "# Match Diff Categorisation and Report"
   ]
  },
  {
   "cell_type": "code",
   "execution_count": null,
   "id": "71543f9f3797520b",
   "metadata": {
    "collapsed": false
   },
   "outputs": [],
   "source": [
    "from recon_lw.reporting.known_issues import IssueStatus\n",
    "from recon_lw.reporting.match_diff.categorizer.basic import BasicErrorCategoriser\n",
    "from recon_lw.reporting.match_diff.categorizer.event_category.base import ErrorCategoryStrategy\n",
    "from recon_lw.reporting.match_diff.categorizer.event_category.basic import BasicDiffCategoryExtractor, \\\n",
    "    BasicEventCategoryExtractor\n",
    "\n",
    "# Diff strategy which returns match diff category name based on event and matched messages and known issues\n",
    "diff_strategy = BasicDiffCategoryExtractor(\n",
    "    known_issues={\n",
    "        \"stream1_vs_stream2 | field 'field1' '10' != '100\": Issue(\n",
    "            code='ISSUE-121',\n",
    "            description='Invalid field1 value for mt2 in stream2.',\n",
    "            status=IssueStatus.APPROVED,\n",
    "            status_update_date='19.03.2024'\n",
    "        )\n",
    "    }\n",
    ")\n",
    "\n",
    "event_strategy = BasicEventCategoryExtractor()\n",
    "\n",
    "# custom category extractor\n",
    "def miss_category_extractor(recon_name: str, orig, copy, event: dict):\n",
    "    if recon_name == 'stream1_vs_stream2':\n",
    "        return f'stream1_vs_stream2 | {recon_name}'\n",
    "\n",
    "categorizer_strategy = ErrorCategoryStrategy(\n",
    "    match_extractor=event_strategy,\n",
    "    match_diff_extractor=event_strategy,\n",
    "    miss_left_extractor=miss_category_extractor,\n",
    "    miss_right_extractor=miss_category_extractor,\n",
    "    diff_category_extractor=diff_strategy\n",
    ")\n",
    "\n",
    "# Categoser which categorises events basing on strategies for different type of events.\n",
    "categorizer = BasicErrorCategoriser(\n",
    "    error_extractor_strategy=categorizer_strategy,\n",
    "    recon_context=recon_context\n",
    ")\n"
   ]
  },
  {
   "cell_type": "code",
   "execution_count": null,
   "id": "c44b36622bb2dd46",
   "metadata": {
    "collapsed": false
   },
   "outputs": [],
   "source": [
    "from recon_lw.reporting.match_diff.viewer.content_provider.default import DefaultExampleContentProvider\n",
    "from recon_lw.reporting.match_diff.viewer.style_provider.default import DefaultErrorExamplesStyleProvider\n",
    "from recon_lw.reporting.match_diff.viewer.color_provider.default import DefaultCategoryColorProvider\n",
    "from recon_lw.reporting.match_diff.viewer.category_displayer import ErrorExampleDisplayer, MatchDiffViewer\n",
    "\n",
    "# Default Color Provider\n",
    "color_provider = DefaultCategoryColorProvider()\n",
    "# Non default color provider\n",
    "not_default_color_provider = lambda category: \"#000000\" if 'field1' in category else \"#ffffff\"\n",
    "\n",
    "\n",
    "# Defining object which can display error examples collected by error categoriser with default styles.\n",
    "example_displayer = ErrorExampleDisplayer(\n",
    "    category_color_provider=color_provider,\n",
    "    error_examples_styles_provider=DefaultErrorExamplesStyleProvider()\n",
    ")\n",
    "\n",
    "# Running events categorisation\n",
    "stats_context = categorizer.process_events(recon_context.get_recon_events())\n",
    "\n",
    "# Message key extractor\n",
    "def id(x):\n",
    "    if x['sessionId'] == 'stream1_session_alias':\n",
    "        return stream1_key_function.provide(stream1_adapter)(x)\n",
    "    else:\n",
    "        return stream2_key_extractor(stream2_adapter, x, key_fields)\n",
    "\n",
    "\n",
    "# Defining match diff html report displayer to display categories found by categoriser\n",
    "diff_viewer = MatchDiffViewer(\n",
    "    recon_stats_context=stats_context,\n",
    "    messages=stream1_adapter + stream2_adapter,\n",
    "    data_objects=[stream1_data, stream2_data],\n",
    "    message_business_ids_provider=id,\n",
    "    message_content_provider=DefaultExampleContentProvider(),\n",
    "    recon_context=recon_context,\n",
    "    error_example_displayer=example_displayer\n",
    ")\n",
    "diff_viewer.display_report()"
   ]
  },
  {
   "cell_type": "markdown",
   "id": "625c468dbe0e7fdd",
   "metadata": {
    "collapsed": false
   },
   "source": [
    "# Static misses categorisation"
   ]
  },
  {
   "cell_type": "code",
   "execution_count": null,
   "id": "9edc57cdfb3fe282",
   "metadata": {
    "collapsed": false
   },
   "outputs": [],
   "source": [
    "from recon_lw.reporting.missing_messages.viewer.missing_message import MissingMessagesDisplayer\n",
    "from recon_lw.reporting.missing_messages.categorizer.matchers_impl import SimpleMatcherFlat\n",
    "from recon_lw.reporting.known_issues import Issue, IssueStatus\n",
    "from recon_lw.reporting.missing_messages.categorizer.rule import MissCategorizationRule\n",
    "from recon_lw.reporting.missing_messages.categorizer.categorizer_impl import SimpleMissesCategorizer\n",
    "from recon_lw.reporting.missing_messages.utils import MissedMessageHandler\n",
    "\n",
    "# Defining categoriser\n",
    "categorizer = SimpleMissesCategorizer(\n",
    "    {\n",
    "        'no_copy stream1_vs_stream2': [MissCategorizationRule(\n",
    "            ticket=Issue(\n",
    "                code=\"TEST-335\",\n",
    "                description=\"stream2 missing msgs with field 'field1' value greater than 1000 due {some reason}.\",\n",
    "                status=IssueStatus.APPROVED,\n",
    "                status_update_date='2024.01.21'\n",
    "            ),\n",
    "            handler=lambda x: int(x['body']['messages'][0].get('field')) > 1000 \n",
    "        )]\n",
    "    }\n",
    ")\n",
    "\n",
    "# Defining handler\n",
    "miss_messages_handler = MissedMessageHandler(\n",
    "    recon_context=recon_context,\n",
    "    miss_categoriser=categorizer\n",
    ")\n",
    "\n",
    "# Extracting missing messages and categories using categoriser\n",
    "messages, classes = miss_messages_handler.categorise_and_filter(stream1_data + stream2_data)\n",
    "\n",
    "# Showing categories in table view.\n",
    "report = MissingMessagesDisplayer(classes)\n",
    "report.display(messages)"
   ]
  },
  {
   "cell_type": "markdown",
   "id": "f1779b619eb22084",
   "metadata": {
    "collapsed": false
   },
   "source": [
    "# Dynamic misses and match diffs categorisation"
   ]
  },
  {
   "cell_type": "code",
   "execution_count": null,
   "id": "1bbdcc1b81bdf82b",
   "metadata": {
    "collapsed": false
   },
   "outputs": [],
   "source": [
    "def miss_orig_event_category(event) -> str:\n",
    "    message = event['body']['messages'][0]\n",
    "    return f'stream1 missing messages with key field {message[\"key_field_1\"]} and \"field1\" {message[\"field1\"]}'\n",
    "\n",
    "def miss_copy_event_category(event) -> str:\n",
    "    # your logic goes here\n",
    "    return 'UNCATEGORISED'\n",
    "\n",
    "def match_diff_event_category(event) -> str:\n",
    "    stream1_msg = event['body']['messages'][0]\n",
    "    stream2_msg = event['body']['messages'][1]\n",
    "    # your logic goes here\n",
    "    return 'UNCATEGORIZED'"
   ]
  },
  {
   "cell_type": "code",
   "execution_count": null,
   "id": "8a35b20696a15726",
   "metadata": {
    "collapsed": false
   },
   "outputs": [],
   "source": [
    "# Displaing miss orig categories\n",
    "from th2_data_services.utils.event_utils.totals import get_category_totals2\n",
    "from th2_data_services.utils.category import Category\n",
    "categories = [\n",
    "    Category(\"recon_name\", lambda e: e['recon_name']),\n",
    "    Category(\"type\", lambda e: e['eventType']),\n",
    "    Category(\"miss type\", miss_orig_event_category)\n",
    "]\n",
    "get_category_totals2(recon_context.get_recon_events().filter(lambda e: e['eventType'] == 'BasicReconMissLeft'), categories)"
   ]
  },
  {
   "cell_type": "code",
   "execution_count": null,
   "id": "732d933dc6da12e4",
   "metadata": {
    "collapsed": false
   },
   "outputs": [],
   "source": [
    "# Displaing miss copy categories\n",
    "categories = [\n",
    "    Category(\"recon_name\", lambda e: e['recon_name']),\n",
    "    Category(\"type\", lambda e: e['eventType']),\n",
    "    Category(\"miss type\", miss_copy_event_category)\n",
    "]\n",
    "get_category_totals2(recon_context.get_recon_events().filter(lambda e: e['eventType'] == 'BasicReconMissRight'), categories)"
   ]
  },
  {
   "cell_type": "code",
   "execution_count": null,
   "id": "cd5e30d51177d444",
   "metadata": {
    "collapsed": false
   },
   "outputs": [],
   "source": [
    "# Displaing match diff categories\n",
    "categories = [\n",
    "    Category(\"recon_name\", lambda e: e['recon_name']),\n",
    "    Category(\"type\", lambda e: e['eventType']),\n",
    "    Category(\"miss type\", miss_copy_event_category)\n",
    "]\n",
    "get_category_totals2(recon_context.get_recon_events().filter(lambda e: e['eventType'] == 'BasicReconMatch' and not e['successful']), categories)"
   ]
  }
 ],
 "metadata": {
  "kernelspec": {
   "display_name": "Python 3",
   "language": "python",
   "name": "python3"
  },
  "language_info": {
   "codemirror_mode": {
    "name": "ipython",
    "version": 2
   },
   "file_extension": ".py",
   "mimetype": "text/x-python",
   "name": "python",
   "nbconvert_exporter": "python",
   "pygments_lexer": "ipython2",
   "version": "2.7.6"
  }
 },
 "nbformat": 4,
 "nbformat_minor": 5
}
